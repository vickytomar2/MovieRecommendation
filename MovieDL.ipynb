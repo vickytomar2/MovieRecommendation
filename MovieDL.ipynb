{
  "nbformat": 4,
  "nbformat_minor": 0,
  "metadata": {
    "colab": {
      "name": "MovieDL",
      "provenance": [],
      "collapsed_sections": [],
      "authorship_tag": "ABX9TyMGd/opqwU6RoaF2Hsl974m",
      "include_colab_link": true
    },
    "kernelspec": {
      "name": "python3",
      "display_name": "Python 3"
    }
  },
  "cells": [
    {
      "cell_type": "markdown",
      "metadata": {
        "id": "view-in-github",
        "colab_type": "text"
      },
      "source": [
        "<a href=\"https://colab.research.google.com/github/vickytomar2/MovieRecommendation/blob/master/MovieDL.ipynb\" target=\"_parent\"><img src=\"https://colab.research.google.com/assets/colab-badge.svg\" alt=\"Open In Colab\"/></a>"
      ]
    },
    {
      "cell_type": "code",
      "metadata": {
        "id": "ueK-p5i3dyn5",
        "colab_type": "code",
        "colab": {}
      },
      "source": [
        "\n",
        "# Import libraries\n",
        "%matplotlib inline\n",
        "import math\n",
        "import numpy as np\n",
        "import pandas as pd\n",
        "import matplotlib.pyplot as plt\n",
        "\n",
        "# Reading ratings file\n",
        "ratings = pd.read_csv('ratings.csv', sep='\\t', encoding='latin-1', \n",
        "                      usecols=['user_id', 'movie_id', 'user_emb_id', 'movie_emb_id', 'rating'])\n",
        "max_userid = ratings['user_id'].drop_duplicates().max()\n",
        "max_movieid = ratings['movie_id'].drop_duplicates().max()\n",
        "\n",
        "# Reading ratings file\n",
        "users = pd.read_csv('users.csv', sep='\\t', encoding='latin-1', \n",
        "                    usecols=['user_id', 'gender', 'zipcode', 'age_desc', 'occ_desc'])\n",
        "\n",
        "# Reading ratings file\n",
        "movies = pd.read_csv('movies.csv', sep='\\t', encoding='latin-1', \n",
        "                     usecols=['movie_id', 'title', 'genres'])"
      ],
      "execution_count": 0,
      "outputs": []
    },
    {
      "cell_type": "code",
      "metadata": {
        "id": "r4HKxvP9e0C4",
        "colab_type": "code",
        "colab": {
          "base_uri": "https://localhost:8080/",
          "height": 204
        },
        "outputId": "749f0cbd-01d8-421d-e4e5-b4bd31291482"
      },
      "source": [
        "ratings.head()"
      ],
      "execution_count": 2,
      "outputs": [
        {
          "output_type": "execute_result",
          "data": {
            "text/html": [
              "<div>\n",
              "<style scoped>\n",
              "    .dataframe tbody tr th:only-of-type {\n",
              "        vertical-align: middle;\n",
              "    }\n",
              "\n",
              "    .dataframe tbody tr th {\n",
              "        vertical-align: top;\n",
              "    }\n",
              "\n",
              "    .dataframe thead th {\n",
              "        text-align: right;\n",
              "    }\n",
              "</style>\n",
              "<table border=\"1\" class=\"dataframe\">\n",
              "  <thead>\n",
              "    <tr style=\"text-align: right;\">\n",
              "      <th></th>\n",
              "      <th>user_id</th>\n",
              "      <th>movie_id</th>\n",
              "      <th>rating</th>\n",
              "      <th>user_emb_id</th>\n",
              "      <th>movie_emb_id</th>\n",
              "    </tr>\n",
              "  </thead>\n",
              "  <tbody>\n",
              "    <tr>\n",
              "      <th>0</th>\n",
              "      <td>1</td>\n",
              "      <td>1193</td>\n",
              "      <td>5</td>\n",
              "      <td>0</td>\n",
              "      <td>1192</td>\n",
              "    </tr>\n",
              "    <tr>\n",
              "      <th>1</th>\n",
              "      <td>1</td>\n",
              "      <td>661</td>\n",
              "      <td>3</td>\n",
              "      <td>0</td>\n",
              "      <td>660</td>\n",
              "    </tr>\n",
              "    <tr>\n",
              "      <th>2</th>\n",
              "      <td>1</td>\n",
              "      <td>914</td>\n",
              "      <td>3</td>\n",
              "      <td>0</td>\n",
              "      <td>913</td>\n",
              "    </tr>\n",
              "    <tr>\n",
              "      <th>3</th>\n",
              "      <td>1</td>\n",
              "      <td>3408</td>\n",
              "      <td>4</td>\n",
              "      <td>0</td>\n",
              "      <td>3407</td>\n",
              "    </tr>\n",
              "    <tr>\n",
              "      <th>4</th>\n",
              "      <td>1</td>\n",
              "      <td>2355</td>\n",
              "      <td>5</td>\n",
              "      <td>0</td>\n",
              "      <td>2354</td>\n",
              "    </tr>\n",
              "  </tbody>\n",
              "</table>\n",
              "</div>"
            ],
            "text/plain": [
              "   user_id  movie_id  rating  user_emb_id  movie_emb_id\n",
              "0        1      1193       5            0          1192\n",
              "1        1       661       3            0           660\n",
              "2        1       914       3            0           913\n",
              "3        1      3408       4            0          3407\n",
              "4        1      2355       5            0          2354"
            ]
          },
          "metadata": {
            "tags": []
          },
          "execution_count": 2
        }
      ]
    },
    {
      "cell_type": "code",
      "metadata": {
        "id": "U1E7pxCje-Gb",
        "colab_type": "code",
        "colab": {
          "base_uri": "https://localhost:8080/",
          "height": 204
        },
        "outputId": "d2bc949e-a7d5-40b4-bc6a-87520dd655fe"
      },
      "source": [
        "movies.head()\n"
      ],
      "execution_count": 3,
      "outputs": [
        {
          "output_type": "execute_result",
          "data": {
            "text/html": [
              "<div>\n",
              "<style scoped>\n",
              "    .dataframe tbody tr th:only-of-type {\n",
              "        vertical-align: middle;\n",
              "    }\n",
              "\n",
              "    .dataframe tbody tr th {\n",
              "        vertical-align: top;\n",
              "    }\n",
              "\n",
              "    .dataframe thead th {\n",
              "        text-align: right;\n",
              "    }\n",
              "</style>\n",
              "<table border=\"1\" class=\"dataframe\">\n",
              "  <thead>\n",
              "    <tr style=\"text-align: right;\">\n",
              "      <th></th>\n",
              "      <th>movie_id</th>\n",
              "      <th>title</th>\n",
              "      <th>genres</th>\n",
              "    </tr>\n",
              "  </thead>\n",
              "  <tbody>\n",
              "    <tr>\n",
              "      <th>0</th>\n",
              "      <td>1</td>\n",
              "      <td>Toy Story (1995)</td>\n",
              "      <td>Animation|Children's|Comedy</td>\n",
              "    </tr>\n",
              "    <tr>\n",
              "      <th>1</th>\n",
              "      <td>2</td>\n",
              "      <td>Jumanji (1995)</td>\n",
              "      <td>Adventure|Children's|Fantasy</td>\n",
              "    </tr>\n",
              "    <tr>\n",
              "      <th>2</th>\n",
              "      <td>3</td>\n",
              "      <td>Grumpier Old Men (1995)</td>\n",
              "      <td>Comedy|Romance</td>\n",
              "    </tr>\n",
              "    <tr>\n",
              "      <th>3</th>\n",
              "      <td>4</td>\n",
              "      <td>Waiting to Exhale (1995)</td>\n",
              "      <td>Comedy|Drama</td>\n",
              "    </tr>\n",
              "    <tr>\n",
              "      <th>4</th>\n",
              "      <td>5</td>\n",
              "      <td>Father of the Bride Part II (1995)</td>\n",
              "      <td>Comedy</td>\n",
              "    </tr>\n",
              "  </tbody>\n",
              "</table>\n",
              "</div>"
            ],
            "text/plain": [
              "   movie_id                               title                        genres\n",
              "0         1                    Toy Story (1995)   Animation|Children's|Comedy\n",
              "1         2                      Jumanji (1995)  Adventure|Children's|Fantasy\n",
              "2         3             Grumpier Old Men (1995)                Comedy|Romance\n",
              "3         4            Waiting to Exhale (1995)                  Comedy|Drama\n",
              "4         5  Father of the Bride Part II (1995)                        Comedy"
            ]
          },
          "metadata": {
            "tags": []
          },
          "execution_count": 3
        }
      ]
    },
    {
      "cell_type": "code",
      "metadata": {
        "id": "xTu08uBrfEGN",
        "colab_type": "code",
        "colab": {
          "base_uri": "https://localhost:8080/",
          "height": 204
        },
        "outputId": "b57a39a8-76b9-4141-94d8-f9da3d2eb368"
      },
      "source": [
        "users.head()"
      ],
      "execution_count": 4,
      "outputs": [
        {
          "output_type": "execute_result",
          "data": {
            "text/html": [
              "<div>\n",
              "<style scoped>\n",
              "    .dataframe tbody tr th:only-of-type {\n",
              "        vertical-align: middle;\n",
              "    }\n",
              "\n",
              "    .dataframe tbody tr th {\n",
              "        vertical-align: top;\n",
              "    }\n",
              "\n",
              "    .dataframe thead th {\n",
              "        text-align: right;\n",
              "    }\n",
              "</style>\n",
              "<table border=\"1\" class=\"dataframe\">\n",
              "  <thead>\n",
              "    <tr style=\"text-align: right;\">\n",
              "      <th></th>\n",
              "      <th>user_id</th>\n",
              "      <th>gender</th>\n",
              "      <th>zipcode</th>\n",
              "      <th>age_desc</th>\n",
              "      <th>occ_desc</th>\n",
              "    </tr>\n",
              "  </thead>\n",
              "  <tbody>\n",
              "    <tr>\n",
              "      <th>0</th>\n",
              "      <td>1</td>\n",
              "      <td>F</td>\n",
              "      <td>48067</td>\n",
              "      <td>Under 18</td>\n",
              "      <td>K-12 student</td>\n",
              "    </tr>\n",
              "    <tr>\n",
              "      <th>1</th>\n",
              "      <td>2</td>\n",
              "      <td>M</td>\n",
              "      <td>70072</td>\n",
              "      <td>56+</td>\n",
              "      <td>self-employed</td>\n",
              "    </tr>\n",
              "    <tr>\n",
              "      <th>2</th>\n",
              "      <td>3</td>\n",
              "      <td>M</td>\n",
              "      <td>55117</td>\n",
              "      <td>25-34</td>\n",
              "      <td>scientist</td>\n",
              "    </tr>\n",
              "    <tr>\n",
              "      <th>3</th>\n",
              "      <td>4</td>\n",
              "      <td>M</td>\n",
              "      <td>02460</td>\n",
              "      <td>45-49</td>\n",
              "      <td>executive/managerial</td>\n",
              "    </tr>\n",
              "    <tr>\n",
              "      <th>4</th>\n",
              "      <td>5</td>\n",
              "      <td>M</td>\n",
              "      <td>55455</td>\n",
              "      <td>25-34</td>\n",
              "      <td>writer</td>\n",
              "    </tr>\n",
              "  </tbody>\n",
              "</table>\n",
              "</div>"
            ],
            "text/plain": [
              "   user_id gender zipcode  age_desc              occ_desc\n",
              "0        1      F   48067  Under 18          K-12 student\n",
              "1        2      M   70072       56+         self-employed\n",
              "2        3      M   55117     25-34             scientist\n",
              "3        4      M   02460     45-49  executive/managerial\n",
              "4        5      M   55455     25-34                writer"
            ]
          },
          "metadata": {
            "tags": []
          },
          "execution_count": 4
        }
      ]
    },
    {
      "cell_type": "code",
      "metadata": {
        "id": "8k-YN8n6fF9i",
        "colab_type": "code",
        "colab": {
          "base_uri": "https://localhost:8080/",
          "height": 68
        },
        "outputId": "44e213a2-3b4d-4c51-e979-4f7c47fa10ba"
      },
      "source": [
        "# Create training set\n",
        "shuffled_ratings = ratings.sample(frac=1.)\n",
        "\n",
        "# Shuffling users\n",
        "Users = shuffled_ratings['user_emb_id'].values\n",
        "print('Users:', Users, ', shape =', Users.shape)\n",
        "\n",
        "# Shuffling movies\n",
        "Movies = shuffled_ratings['movie_emb_id'].values\n",
        "print('Movies:', Movies, ', shape =', Movies.shape)\n",
        "\n",
        "# Shuffling ratings\n",
        "Ratings = shuffled_ratings['rating'].values\n",
        "print('Ratings:', Ratings, ', shape =', Ratings.shape)"
      ],
      "execution_count": 5,
      "outputs": [
        {
          "output_type": "stream",
          "text": [
            "Users: [3299 2125 3692 ... 3714 1067 5521] , shape = (1000209,)\n",
            "Movies: [2528 3703 2119 ... 1096 2699 2468] , shape = (1000209,)\n",
            "Ratings: [5 2 3 ... 5 4 4] , shape = (1000209,)\n"
          ],
          "name": "stdout"
        }
      ]
    },
    {
      "cell_type": "code",
      "metadata": {
        "id": "Fa0epSKAgeIh",
        "colab_type": "code",
        "colab": {}
      },
      "source": [
        "# Define constants\n",
        "K_FACTORS = 100 # The number of dimensional embeddings for movies and users\n",
        "TEST_USER = 1000 # A random test user (user_id = 2000)"
      ],
      "execution_count": 0,
      "outputs": []
    },
    {
      "cell_type": "code",
      "metadata": {
        "id": "NDGsbuhqgjqX",
        "colab_type": "code",
        "colab": {
          "base_uri": "https://localhost:8080/",
          "height": 343
        },
        "outputId": "c0474c12-caa0-43cc-d58c-9eb05c3feb72"
      },
      "source": [
        "pip install keras==2.1.2"
      ],
      "execution_count": 27,
      "outputs": [
        {
          "output_type": "stream",
          "text": [
            "Collecting keras==2.1.2\n",
            "\u001b[?25l  Downloading https://files.pythonhosted.org/packages/68/89/58ee5f56a9c26957d97217db41780ebedca3154392cb903c3f8a08a52208/Keras-2.1.2-py2.py3-none-any.whl (304kB)\n",
            "\r\u001b[K     |█                               | 10kB 30.3MB/s eta 0:00:01\r\u001b[K     |██▏                             | 20kB 6.1MB/s eta 0:00:01\r\u001b[K     |███▎                            | 30kB 8.7MB/s eta 0:00:01\r\u001b[K     |████▎                           | 40kB 5.6MB/s eta 0:00:01\r\u001b[K     |█████▍                          | 51kB 6.8MB/s eta 0:00:01\r\u001b[K     |██████▌                         | 61kB 8.1MB/s eta 0:00:01\r\u001b[K     |███████▌                        | 71kB 9.2MB/s eta 0:00:01\r\u001b[K     |████████▋                       | 81kB 10.3MB/s eta 0:00:01\r\u001b[K     |█████████▊                      | 92kB 11.4MB/s eta 0:00:01\r\u001b[K     |██████████▊                     | 102kB 9.0MB/s eta 0:00:01\r\u001b[K     |███████████▉                    | 112kB 9.0MB/s eta 0:00:01\r\u001b[K     |█████████████                   | 122kB 9.0MB/s eta 0:00:01\r\u001b[K     |██████████████                  | 133kB 9.0MB/s eta 0:00:01\r\u001b[K     |███████████████                 | 143kB 9.0MB/s eta 0:00:01\r\u001b[K     |████████████████▏               | 153kB 9.0MB/s eta 0:00:01\r\u001b[K     |█████████████████▎              | 163kB 9.0MB/s eta 0:00:01\r\u001b[K     |██████████████████▎             | 174kB 9.0MB/s eta 0:00:01\r\u001b[K     |███████████████████▍            | 184kB 9.0MB/s eta 0:00:01\r\u001b[K     |████████████████████▌           | 194kB 9.0MB/s eta 0:00:01\r\u001b[K     |█████████████████████▌          | 204kB 9.0MB/s eta 0:00:01\r\u001b[K     |██████████████████████▋         | 215kB 9.0MB/s eta 0:00:01\r\u001b[K     |███████████████████████▊        | 225kB 9.0MB/s eta 0:00:01\r\u001b[K     |████████████████████████▊       | 235kB 9.0MB/s eta 0:00:01\r\u001b[K     |█████████████████████████▉      | 245kB 9.0MB/s eta 0:00:01\r\u001b[K     |███████████████████████████     | 256kB 9.0MB/s eta 0:00:01\r\u001b[K     |████████████████████████████    | 266kB 9.0MB/s eta 0:00:01\r\u001b[K     |█████████████████████████████   | 276kB 9.0MB/s eta 0:00:01\r\u001b[K     |██████████████████████████████▏ | 286kB 9.0MB/s eta 0:00:01\r\u001b[K     |███████████████████████████████▎| 296kB 9.0MB/s eta 0:00:01\r\u001b[K     |████████████████████████████████| 307kB 9.0MB/s \n",
            "\u001b[?25hRequirement already satisfied: scipy>=0.14 in /usr/local/lib/python3.6/dist-packages (from keras==2.1.2) (1.4.1)\n",
            "Requirement already satisfied: six>=1.9.0 in /usr/local/lib/python3.6/dist-packages (from keras==2.1.2) (1.12.0)\n",
            "Requirement already satisfied: pyyaml in /usr/local/lib/python3.6/dist-packages (from keras==2.1.2) (3.13)\n",
            "Requirement already satisfied: numpy>=1.9.1 in /usr/local/lib/python3.6/dist-packages (from keras==2.1.2) (1.17.5)\n",
            "\u001b[31mERROR: textgenrnn 1.4.1 has requirement keras>=2.1.5, but you'll have keras 2.1.2 which is incompatible.\u001b[0m\n",
            "Installing collected packages: keras\n",
            "  Found existing installation: Keras 2.2.5\n",
            "    Uninstalling Keras-2.2.5:\n",
            "      Successfully uninstalled Keras-2.2.5\n",
            "Successfully installed keras-2.1.2\n"
          ],
          "name": "stdout"
        },
        {
          "output_type": "display_data",
          "data": {
            "application/vnd.colab-display-data+json": {
              "pip_warning": {
                "packages": [
                  "keras"
                ]
              }
            }
          },
          "metadata": {
            "tags": []
          }
        }
      ]
    },
    {
      "cell_type": "code",
      "metadata": {
        "id": "9J8AMYgNiUuF",
        "colab_type": "code",
        "colab": {
          "base_uri": "https://localhost:8080/",
          "height": 80
        },
        "outputId": "64a61b3b-a5bc-4560-d776-ec102cbea3d9"
      },
      "source": [
        "from keras.layers import Embedding, Reshape, Merge\n",
        "from keras.models import Sequential\n",
        "from keras.optimizers import Adamax\n",
        "from keras.callbacks import EarlyStopping, ModelCheckpoint\n"
      ],
      "execution_count": 8,
      "outputs": [
        {
          "output_type": "stream",
          "text": [
            "Using TensorFlow backend.\n"
          ],
          "name": "stderr"
        },
        {
          "output_type": "display_data",
          "data": {
            "text/html": [
              "<p style=\"color: red;\">\n",
              "The default version of TensorFlow in Colab will soon switch to TensorFlow 2.x.<br>\n",
              "We recommend you <a href=\"https://www.tensorflow.org/guide/migrate\" target=\"_blank\">upgrade</a> now \n",
              "or ensure your notebook will continue to use TensorFlow 1.x via the <code>%tensorflow_version 1.x</code> magic:\n",
              "<a href=\"https://colab.research.google.com/notebooks/tensorflow_version.ipynb\" target=\"_blank\">more info</a>.</p>\n"
            ],
            "text/plain": [
              "<IPython.core.display.HTML object>"
            ]
          },
          "metadata": {
            "tags": []
          }
        }
      ]
    },
    {
      "cell_type": "code",
      "metadata": {
        "id": "16Thy5nNicD-",
        "colab_type": "code",
        "colab": {
          "base_uri": "https://localhost:8080/",
          "height": 207
        },
        "outputId": "98b82b9c-3570-4fe8-b60f-6c4f945805ef"
      },
      "source": [
        "left = Sequential()\n",
        "left.add(Embedding(max_userid, K_FACTORS,input_length=1))\n",
        "left.add(Reshape((K_FACTORS,)))\n",
        "\n",
        "right = Sequential()\n",
        "right.add(Embedding(max_movieid,K_FACTORS, input_length=1))\n",
        "right.add(Reshape((K_FACTORS,)))\n",
        "\n",
        "model = Sequential()\n",
        "\n",
        "model.add(Merge([left, right], mode='dot'))\n",
        "model.compile(loss='mse', optimizer='adamax')\n"
      ],
      "execution_count": 9,
      "outputs": [
        {
          "output_type": "stream",
          "text": [
            "WARNING:tensorflow:From /usr/local/lib/python3.6/dist-packages/keras/backend/tensorflow_backend.py:64: The name tf.get_default_graph is deprecated. Please use tf.compat.v1.get_default_graph instead.\n",
            "\n",
            "WARNING:tensorflow:From /usr/local/lib/python3.6/dist-packages/keras/backend/tensorflow_backend.py:497: The name tf.placeholder is deprecated. Please use tf.compat.v1.placeholder instead.\n",
            "\n",
            "WARNING:tensorflow:From /usr/local/lib/python3.6/dist-packages/keras/backend/tensorflow_backend.py:3636: The name tf.random_uniform is deprecated. Please use tf.random.uniform instead.\n",
            "\n",
            "WARNING:tensorflow:From /usr/local/lib/python3.6/dist-packages/keras/optimizers.py:711: The name tf.train.Optimizer is deprecated. Please use tf.compat.v1.train.Optimizer instead.\n",
            "\n"
          ],
          "name": "stdout"
        },
        {
          "output_type": "stream",
          "text": [
            "/usr/local/lib/python3.6/dist-packages/ipykernel_launcher.py:11: UserWarning: The `Merge` layer is deprecated and will be removed after 08/2017. Use instead layers from `keras.layers.merge`, e.g. `add`, `concatenate`, etc.\n",
            "  # This is added back by InteractiveShellApp.init_path()\n"
          ],
          "name": "stderr"
        }
      ]
    },
    {
      "cell_type": "code",
      "metadata": {
        "id": "oVgpr_s6i8Sn",
        "colab_type": "code",
        "colab": {
          "base_uri": "https://localhost:8080/",
          "height": 717
        },
        "outputId": "f9906c29-c107-4da4-e78c-4a3951c0aeaa"
      },
      "source": [
        "callbacks = [EarlyStopping('val_loss', patience=2),ModelCheckpoint('movie_weights.h5', save_best_only=True)]\n",
        "model.fit([Users, Movies], Ratings, nb_epoch=50,validation_split=.1, callbacks=callbacks)"
      ],
      "execution_count": 11,
      "outputs": [
        {
          "output_type": "stream",
          "text": [
            "Train on 900188 samples, validate on 100021 samples\n",
            "Epoch 1/50\n",
            "   480/900188 [..............................] - ETA: 4:52 - loss: 14.4833"
          ],
          "name": "stdout"
        },
        {
          "output_type": "stream",
          "text": [
            "/usr/local/lib/python3.6/dist-packages/keras/models.py:939: UserWarning: The `nb_epoch` argument in `fit` has been renamed `epochs`.\n",
            "  warnings.warn('The `nb_epoch` argument in `fit` '\n"
          ],
          "name": "stderr"
        },
        {
          "output_type": "stream",
          "text": [
            "900188/900188 [==============================] - 220s 244us/step - loss: 7.3357 - val_loss: 2.0588\n",
            "Epoch 2/50\n",
            "900188/900188 [==============================] - 218s 242us/step - loss: 1.4040 - val_loss: 1.1071\n",
            "Epoch 3/50\n",
            "900188/900188 [==============================] - 218s 243us/step - loss: 0.9831 - val_loss: 0.9316\n",
            "Epoch 4/50\n",
            "900188/900188 [==============================] - 222s 246us/step - loss: 0.8768 - val_loss: 0.8690\n",
            "Epoch 5/50\n",
            "900188/900188 [==============================] - 225s 250us/step - loss: 0.8280 - val_loss: 0.8366\n",
            "Epoch 6/50\n",
            "900188/900188 [==============================] - 219s 243us/step - loss: 0.7968 - val_loss: 0.8161\n",
            "Epoch 7/50\n",
            "900188/900188 [==============================] - 209s 233us/step - loss: 0.7726 - val_loss: 0.8019\n",
            "Epoch 8/50\n",
            "900188/900188 [==============================] - 209s 232us/step - loss: 0.7515 - val_loss: 0.7912\n",
            "Epoch 9/50\n",
            "900188/900188 [==============================] - 207s 230us/step - loss: 0.7311 - val_loss: 0.7799\n",
            "Epoch 10/50\n",
            "900188/900188 [==============================] - 206s 228us/step - loss: 0.7108 - val_loss: 0.7717\n",
            "Epoch 11/50\n",
            "900188/900188 [==============================] - 204s 227us/step - loss: 0.6905 - val_loss: 0.7636\n",
            "Epoch 12/50\n",
            "900188/900188 [==============================] - 201s 223us/step - loss: 0.6702 - val_loss: 0.7584\n",
            "Epoch 13/50\n",
            "900188/900188 [==============================] - 199s 222us/step - loss: 0.6497 - val_loss: 0.7545\n",
            "Epoch 14/50\n",
            "900188/900188 [==============================] - 199s 221us/step - loss: 0.6288 - val_loss: 0.7509\n",
            "Epoch 15/50\n",
            "900188/900188 [==============================] - 199s 221us/step - loss: 0.6080 - val_loss: 0.7493\n",
            "Epoch 16/50\n",
            "900188/900188 [==============================] - 206s 229us/step - loss: 0.5874 - val_loss: 0.7487\n",
            "Epoch 17/50\n",
            "900188/900188 [==============================] - 204s 227us/step - loss: 0.5673 - val_loss: 0.7506\n",
            "Epoch 18/50\n",
            "900188/900188 [==============================] - 203s 226us/step - loss: 0.5471 - val_loss: 0.7532\n"
          ],
          "name": "stdout"
        },
        {
          "output_type": "execute_result",
          "data": {
            "text/plain": [
              "<keras.callbacks.History at 0x7f5a20f7b9e8>"
            ]
          },
          "metadata": {
            "tags": []
          },
          "execution_count": 11
        }
      ]
    },
    {
      "cell_type": "code",
      "metadata": {
        "id": "dIfxynaUjDU_",
        "colab_type": "code",
        "colab": {
          "base_uri": "https://localhost:8080/",
          "height": 34
        },
        "outputId": "bd9d1599-0555-417b-9797-848285b8f761"
      },
      "source": [
        "\n",
        "min_rmse = math.sqrt(0.7487)\n",
        "print(min_rmse)"
      ],
      "execution_count": 14,
      "outputs": [
        {
          "output_type": "stream",
          "text": [
            "0.8652745229116595\n"
          ],
          "name": "stdout"
        }
      ]
    },
    {
      "cell_type": "code",
      "metadata": {
        "id": "5UHHh4pv061w",
        "colab_type": "code",
        "colab": {}
      },
      "source": [
        "import numpy as np\n",
        "from keras.layers import Embedding, Reshape, Merge\n",
        "from keras.models import Sequential\n",
        "\n",
        "class CFModel(Sequential):\n",
        "\n",
        "    # The constructor for the class\n",
        "    def __init__(self, n_users, m_items, k_factors, **kwargs):\n",
        "        # P is the embedding layer that creates an User by latent factors matrix.\n",
        "        # If the intput is a user_id, P returns the latent factor vector for that user.\n",
        "        P = Sequential()\n",
        "        P.add(Embedding(n_users, k_factors, input_length=1))\n",
        "        P.add(Reshape((k_factors,)))\n",
        "\n",
        "        # Q is the embedding layer that creates a Movie by latent factors matrix.\n",
        "        # If the input is a movie_id, Q returns the latent factor vector for that movie.\n",
        "        Q = Sequential()\n",
        "        Q.add(Embedding(m_items, k_factors, input_length=1))\n",
        "        Q.add(Reshape((k_factors,)))\n",
        "\n",
        "        super(CFModel, self).__init__(**kwargs)\n",
        "        \n",
        "        # The Merge layer takes the dot product of user and movie latent factor vectors to return the corresponding rating.\n",
        "        self.add(Merge([P, Q], mode='dot', dot_axes=1))\n",
        "\n",
        "    # The rate function to predict user's rating of unrated items\n",
        "    def rate(self, user_id, item_id):\n",
        "        return self.predict([np.array([user_id]), np.array([item_id])])[0][0]"
      ],
      "execution_count": 0,
      "outputs": []
    },
    {
      "cell_type": "code",
      "metadata": {
        "id": "UFQmsm5D2Ijv",
        "colab_type": "code",
        "colab": {
          "base_uri": "https://localhost:8080/",
          "height": 54
        },
        "outputId": "f3c2ff8d-8107-4e7e-ae69-24c9c1bcced6"
      },
      "source": [
        "trained_model = CFModel(max_userid, max_movieid, K_FACTORS)\n",
        "# Load weights\n",
        "trained_model.load_weights('movie_weights.h5')"
      ],
      "execution_count": 16,
      "outputs": [
        {
          "output_type": "stream",
          "text": [
            "/usr/local/lib/python3.6/dist-packages/ipykernel_launcher.py:24: UserWarning: The `Merge` layer is deprecated and will be removed after 08/2017. Use instead layers from `keras.layers.merge`, e.g. `add`, `concatenate`, etc.\n"
          ],
          "name": "stderr"
        }
      ]
    },
    {
      "cell_type": "code",
      "metadata": {
        "id": "MWDZkqHd2QPN",
        "colab_type": "code",
        "colab": {
          "base_uri": "https://localhost:8080/",
          "height": 80
        },
        "outputId": "df4fc576-b9a7-4d90-cf9b-aee2888a0da3"
      },
      "source": [
        "users[users['user_id'] == TEST_USER]"
      ],
      "execution_count": 17,
      "outputs": [
        {
          "output_type": "execute_result",
          "data": {
            "text/html": [
              "<div>\n",
              "<style scoped>\n",
              "    .dataframe tbody tr th:only-of-type {\n",
              "        vertical-align: middle;\n",
              "    }\n",
              "\n",
              "    .dataframe tbody tr th {\n",
              "        vertical-align: top;\n",
              "    }\n",
              "\n",
              "    .dataframe thead th {\n",
              "        text-align: right;\n",
              "    }\n",
              "</style>\n",
              "<table border=\"1\" class=\"dataframe\">\n",
              "  <thead>\n",
              "    <tr style=\"text-align: right;\">\n",
              "      <th></th>\n",
              "      <th>user_id</th>\n",
              "      <th>gender</th>\n",
              "      <th>zipcode</th>\n",
              "      <th>age_desc</th>\n",
              "      <th>occ_desc</th>\n",
              "    </tr>\n",
              "  </thead>\n",
              "  <tbody>\n",
              "    <tr>\n",
              "      <th>999</th>\n",
              "      <td>1000</td>\n",
              "      <td>F</td>\n",
              "      <td>90027</td>\n",
              "      <td>25-34</td>\n",
              "      <td>doctor/health care</td>\n",
              "    </tr>\n",
              "  </tbody>\n",
              "</table>\n",
              "</div>"
            ],
            "text/plain": [
              "     user_id gender zipcode age_desc            occ_desc\n",
              "999     1000      F   90027    25-34  doctor/health care"
            ]
          },
          "metadata": {
            "tags": []
          },
          "execution_count": 17
        }
      ]
    },
    {
      "cell_type": "code",
      "metadata": {
        "id": "HhXaafvP2WEc",
        "colab_type": "code",
        "colab": {}
      },
      "source": [
        "# Function to predict the ratings given User ID and Movie ID\n",
        "def predict_rating(user_id, movie_id):\n",
        "    return trained_model.rate(user_id - 1, movie_id - 1)"
      ],
      "execution_count": 0,
      "outputs": []
    },
    {
      "cell_type": "code",
      "metadata": {
        "id": "80wdFens2dA8",
        "colab_type": "code",
        "colab": {
          "base_uri": "https://localhost:8080/",
          "height": 669
        },
        "outputId": "121c32ed-68d4-4cd4-f719-377f1e8d2afb"
      },
      "source": [
        "user_ratings = ratings[ratings['user_id'] == TEST_USER][['user_id', 'movie_id', 'rating']]\n",
        "user_ratings['prediction'] = user_ratings.apply(lambda x: predict_rating(TEST_USER, x['movie_id']), axis=1)\n",
        "user_ratings.sort_values(by='rating', \n",
        "                         ascending=False).merge(movies, \n",
        "                                                on='movie_id', \n",
        "                                                how='inner', \n",
        "                                                suffixes=['_u', '_m']).head(20)"
      ],
      "execution_count": 19,
      "outputs": [
        {
          "output_type": "execute_result",
          "data": {
            "text/html": [
              "<div>\n",
              "<style scoped>\n",
              "    .dataframe tbody tr th:only-of-type {\n",
              "        vertical-align: middle;\n",
              "    }\n",
              "\n",
              "    .dataframe tbody tr th {\n",
              "        vertical-align: top;\n",
              "    }\n",
              "\n",
              "    .dataframe thead th {\n",
              "        text-align: right;\n",
              "    }\n",
              "</style>\n",
              "<table border=\"1\" class=\"dataframe\">\n",
              "  <thead>\n",
              "    <tr style=\"text-align: right;\">\n",
              "      <th></th>\n",
              "      <th>user_id</th>\n",
              "      <th>movie_id</th>\n",
              "      <th>rating</th>\n",
              "      <th>prediction</th>\n",
              "      <th>title</th>\n",
              "      <th>genres</th>\n",
              "    </tr>\n",
              "  </thead>\n",
              "  <tbody>\n",
              "    <tr>\n",
              "      <th>0</th>\n",
              "      <td>1000</td>\n",
              "      <td>3405</td>\n",
              "      <td>5</td>\n",
              "      <td>4.078745</td>\n",
              "      <td>Night to Remember, A (1958)</td>\n",
              "      <td>Action|Drama</td>\n",
              "    </tr>\n",
              "    <tr>\n",
              "      <th>1</th>\n",
              "      <td>1000</td>\n",
              "      <td>3068</td>\n",
              "      <td>5</td>\n",
              "      <td>4.151642</td>\n",
              "      <td>Verdict, The (1982)</td>\n",
              "      <td>Drama</td>\n",
              "    </tr>\n",
              "    <tr>\n",
              "      <th>2</th>\n",
              "      <td>1000</td>\n",
              "      <td>3418</td>\n",
              "      <td>5</td>\n",
              "      <td>4.194287</td>\n",
              "      <td>Thelma &amp; Louise (1991)</td>\n",
              "      <td>Action|Drama</td>\n",
              "    </tr>\n",
              "    <tr>\n",
              "      <th>3</th>\n",
              "      <td>1000</td>\n",
              "      <td>260</td>\n",
              "      <td>5</td>\n",
              "      <td>4.772050</td>\n",
              "      <td>Star Wars: Episode IV - A New Hope (1977)</td>\n",
              "      <td>Action|Adventure|Fantasy|Sci-Fi</td>\n",
              "    </tr>\n",
              "    <tr>\n",
              "      <th>4</th>\n",
              "      <td>1000</td>\n",
              "      <td>1023</td>\n",
              "      <td>5</td>\n",
              "      <td>4.348955</td>\n",
              "      <td>Winnie the Pooh and the Blustery Day (1968)</td>\n",
              "      <td>Animation|Children's</td>\n",
              "    </tr>\n",
              "    <tr>\n",
              "      <th>5</th>\n",
              "      <td>1000</td>\n",
              "      <td>1104</td>\n",
              "      <td>5</td>\n",
              "      <td>4.432540</td>\n",
              "      <td>Streetcar Named Desire, A (1951)</td>\n",
              "      <td>Drama</td>\n",
              "    </tr>\n",
              "    <tr>\n",
              "      <th>6</th>\n",
              "      <td>1000</td>\n",
              "      <td>2857</td>\n",
              "      <td>5</td>\n",
              "      <td>4.022496</td>\n",
              "      <td>Yellow Submarine (1968)</td>\n",
              "      <td>Animation|Musical</td>\n",
              "    </tr>\n",
              "    <tr>\n",
              "      <th>7</th>\n",
              "      <td>1000</td>\n",
              "      <td>457</td>\n",
              "      <td>5</td>\n",
              "      <td>4.721675</td>\n",
              "      <td>Fugitive, The (1993)</td>\n",
              "      <td>Action|Thriller</td>\n",
              "    </tr>\n",
              "    <tr>\n",
              "      <th>8</th>\n",
              "      <td>1000</td>\n",
              "      <td>318</td>\n",
              "      <td>5</td>\n",
              "      <td>5.077771</td>\n",
              "      <td>Shawshank Redemption, The (1994)</td>\n",
              "      <td>Drama</td>\n",
              "    </tr>\n",
              "    <tr>\n",
              "      <th>9</th>\n",
              "      <td>1000</td>\n",
              "      <td>2571</td>\n",
              "      <td>5</td>\n",
              "      <td>4.985937</td>\n",
              "      <td>Matrix, The (1999)</td>\n",
              "      <td>Action|Sci-Fi|Thriller</td>\n",
              "    </tr>\n",
              "    <tr>\n",
              "      <th>10</th>\n",
              "      <td>1000</td>\n",
              "      <td>3363</td>\n",
              "      <td>5</td>\n",
              "      <td>4.431863</td>\n",
              "      <td>American Graffiti (1973)</td>\n",
              "      <td>Comedy|Drama</td>\n",
              "    </tr>\n",
              "    <tr>\n",
              "      <th>11</th>\n",
              "      <td>1000</td>\n",
              "      <td>1198</td>\n",
              "      <td>5</td>\n",
              "      <td>4.923119</td>\n",
              "      <td>Raiders of the Lost Ark (1981)</td>\n",
              "      <td>Action|Adventure</td>\n",
              "    </tr>\n",
              "    <tr>\n",
              "      <th>12</th>\n",
              "      <td>1000</td>\n",
              "      <td>3114</td>\n",
              "      <td>5</td>\n",
              "      <td>4.827733</td>\n",
              "      <td>Toy Story 2 (1999)</td>\n",
              "      <td>Animation|Children's|Comedy</td>\n",
              "    </tr>\n",
              "    <tr>\n",
              "      <th>13</th>\n",
              "      <td>1000</td>\n",
              "      <td>1374</td>\n",
              "      <td>5</td>\n",
              "      <td>4.103141</td>\n",
              "      <td>Star Trek: The Wrath of Khan (1982)</td>\n",
              "      <td>Action|Adventure|Sci-Fi</td>\n",
              "    </tr>\n",
              "    <tr>\n",
              "      <th>14</th>\n",
              "      <td>1000</td>\n",
              "      <td>858</td>\n",
              "      <td>5</td>\n",
              "      <td>4.658282</td>\n",
              "      <td>Godfather, The (1972)</td>\n",
              "      <td>Action|Crime|Drama</td>\n",
              "    </tr>\n",
              "    <tr>\n",
              "      <th>15</th>\n",
              "      <td>1000</td>\n",
              "      <td>2194</td>\n",
              "      <td>5</td>\n",
              "      <td>4.717370</td>\n",
              "      <td>Untouchables, The (1987)</td>\n",
              "      <td>Action|Crime|Drama</td>\n",
              "    </tr>\n",
              "    <tr>\n",
              "      <th>16</th>\n",
              "      <td>1000</td>\n",
              "      <td>110</td>\n",
              "      <td>5</td>\n",
              "      <td>4.935599</td>\n",
              "      <td>Braveheart (1995)</td>\n",
              "      <td>Action|Drama|War</td>\n",
              "    </tr>\n",
              "    <tr>\n",
              "      <th>17</th>\n",
              "      <td>1000</td>\n",
              "      <td>1610</td>\n",
              "      <td>5</td>\n",
              "      <td>4.772710</td>\n",
              "      <td>Hunt for Red October, The (1990)</td>\n",
              "      <td>Action|Thriller</td>\n",
              "    </tr>\n",
              "    <tr>\n",
              "      <th>18</th>\n",
              "      <td>1000</td>\n",
              "      <td>2355</td>\n",
              "      <td>5</td>\n",
              "      <td>4.465146</td>\n",
              "      <td>Bug's Life, A (1998)</td>\n",
              "      <td>Animation|Children's|Comedy</td>\n",
              "    </tr>\n",
              "    <tr>\n",
              "      <th>19</th>\n",
              "      <td>1000</td>\n",
              "      <td>527</td>\n",
              "      <td>5</td>\n",
              "      <td>5.024703</td>\n",
              "      <td>Schindler's List (1993)</td>\n",
              "      <td>Drama|War</td>\n",
              "    </tr>\n",
              "  </tbody>\n",
              "</table>\n",
              "</div>"
            ],
            "text/plain": [
              "    user_id  ...                           genres\n",
              "0      1000  ...                     Action|Drama\n",
              "1      1000  ...                            Drama\n",
              "2      1000  ...                     Action|Drama\n",
              "3      1000  ...  Action|Adventure|Fantasy|Sci-Fi\n",
              "4      1000  ...             Animation|Children's\n",
              "5      1000  ...                            Drama\n",
              "6      1000  ...                Animation|Musical\n",
              "7      1000  ...                  Action|Thriller\n",
              "8      1000  ...                            Drama\n",
              "9      1000  ...           Action|Sci-Fi|Thriller\n",
              "10     1000  ...                     Comedy|Drama\n",
              "11     1000  ...                 Action|Adventure\n",
              "12     1000  ...      Animation|Children's|Comedy\n",
              "13     1000  ...          Action|Adventure|Sci-Fi\n",
              "14     1000  ...               Action|Crime|Drama\n",
              "15     1000  ...               Action|Crime|Drama\n",
              "16     1000  ...                 Action|Drama|War\n",
              "17     1000  ...                  Action|Thriller\n",
              "18     1000  ...      Animation|Children's|Comedy\n",
              "19     1000  ...                        Drama|War\n",
              "\n",
              "[20 rows x 6 columns]"
            ]
          },
          "metadata": {
            "tags": []
          },
          "execution_count": 19
        }
      ]
    },
    {
      "cell_type": "code",
      "metadata": {
        "id": "zEu6BY_82oth",
        "colab_type": "code",
        "colab": {
          "base_uri": "https://localhost:8080/",
          "height": 669
        },
        "outputId": "f1bb9834-43ee-4500-d430-c77ea8db7c21"
      },
      "source": [
        "recommendations = ratings[ratings['movie_id'].isin(user_ratings['movie_id']) == False][['movie_id']].drop_duplicates()\n",
        "recommendations['prediction'] = recommendations.apply(lambda x: predict_rating(TEST_USER, x['movie_id']), axis=1)\n",
        "recommendations.sort_values(by='prediction',\n",
        "                          ascending=False).merge(movies,\n",
        "                                                 on='movie_id',\n",
        "                                                 how='inner',\n",
        "                                                 suffixes=['_u', '_m']).head(20)"
      ],
      "execution_count": 20,
      "outputs": [
        {
          "output_type": "execute_result",
          "data": {
            "text/html": [
              "<div>\n",
              "<style scoped>\n",
              "    .dataframe tbody tr th:only-of-type {\n",
              "        vertical-align: middle;\n",
              "    }\n",
              "\n",
              "    .dataframe tbody tr th {\n",
              "        vertical-align: top;\n",
              "    }\n",
              "\n",
              "    .dataframe thead th {\n",
              "        text-align: right;\n",
              "    }\n",
              "</style>\n",
              "<table border=\"1\" class=\"dataframe\">\n",
              "  <thead>\n",
              "    <tr style=\"text-align: right;\">\n",
              "      <th></th>\n",
              "      <th>movie_id</th>\n",
              "      <th>prediction</th>\n",
              "      <th>title</th>\n",
              "      <th>genres</th>\n",
              "    </tr>\n",
              "  </thead>\n",
              "  <tbody>\n",
              "    <tr>\n",
              "      <th>0</th>\n",
              "      <td>2324</td>\n",
              "      <td>4.966138</td>\n",
              "      <td>Life Is Beautiful (La Vita è bella) (1997)</td>\n",
              "      <td>Comedy|Drama</td>\n",
              "    </tr>\n",
              "    <tr>\n",
              "      <th>1</th>\n",
              "      <td>2905</td>\n",
              "      <td>4.959520</td>\n",
              "      <td>Sanjuro (1962)</td>\n",
              "      <td>Action|Adventure</td>\n",
              "    </tr>\n",
              "    <tr>\n",
              "      <th>2</th>\n",
              "      <td>2028</td>\n",
              "      <td>4.896996</td>\n",
              "      <td>Saving Private Ryan (1998)</td>\n",
              "      <td>Action|Drama|War</td>\n",
              "    </tr>\n",
              "    <tr>\n",
              "      <th>3</th>\n",
              "      <td>2396</td>\n",
              "      <td>4.848960</td>\n",
              "      <td>Shakespeare in Love (1998)</td>\n",
              "      <td>Comedy|Romance</td>\n",
              "    </tr>\n",
              "    <tr>\n",
              "      <th>4</th>\n",
              "      <td>3022</td>\n",
              "      <td>4.836109</td>\n",
              "      <td>General, The (1927)</td>\n",
              "      <td>Comedy</td>\n",
              "    </tr>\n",
              "    <tr>\n",
              "      <th>5</th>\n",
              "      <td>668</td>\n",
              "      <td>4.811348</td>\n",
              "      <td>Pather Panchali (1955)</td>\n",
              "      <td>Drama</td>\n",
              "    </tr>\n",
              "    <tr>\n",
              "      <th>6</th>\n",
              "      <td>2329</td>\n",
              "      <td>4.795425</td>\n",
              "      <td>American History X (1998)</td>\n",
              "      <td>Drama</td>\n",
              "    </tr>\n",
              "    <tr>\n",
              "      <th>7</th>\n",
              "      <td>1111</td>\n",
              "      <td>4.793384</td>\n",
              "      <td>Microcosmos (Microcosmos: Le peuple de l'herbe...</td>\n",
              "      <td>Documentary</td>\n",
              "    </tr>\n",
              "    <tr>\n",
              "      <th>8</th>\n",
              "      <td>3030</td>\n",
              "      <td>4.792310</td>\n",
              "      <td>Yojimbo (1961)</td>\n",
              "      <td>Comedy|Drama|Western</td>\n",
              "    </tr>\n",
              "    <tr>\n",
              "      <th>9</th>\n",
              "      <td>1148</td>\n",
              "      <td>4.779068</td>\n",
              "      <td>Wrong Trousers, The (1993)</td>\n",
              "      <td>Animation|Comedy</td>\n",
              "    </tr>\n",
              "    <tr>\n",
              "      <th>10</th>\n",
              "      <td>3092</td>\n",
              "      <td>4.771835</td>\n",
              "      <td>Chushingura (1962)</td>\n",
              "      <td>Drama</td>\n",
              "    </tr>\n",
              "    <tr>\n",
              "      <th>11</th>\n",
              "      <td>1246</td>\n",
              "      <td>4.754909</td>\n",
              "      <td>Dead Poets Society (1989)</td>\n",
              "      <td>Drama</td>\n",
              "    </tr>\n",
              "    <tr>\n",
              "      <th>12</th>\n",
              "      <td>3415</td>\n",
              "      <td>4.753493</td>\n",
              "      <td>Mirror, The (Zerkalo) (1975)</td>\n",
              "      <td>Drama</td>\n",
              "    </tr>\n",
              "    <tr>\n",
              "      <th>13</th>\n",
              "      <td>1250</td>\n",
              "      <td>4.748952</td>\n",
              "      <td>Bridge on the River Kwai, The (1957)</td>\n",
              "      <td>Drama|War</td>\n",
              "    </tr>\n",
              "    <tr>\n",
              "      <th>14</th>\n",
              "      <td>2019</td>\n",
              "      <td>4.747628</td>\n",
              "      <td>Seven Samurai (The Magnificent Seven) (Shichin...</td>\n",
              "      <td>Action|Drama</td>\n",
              "    </tr>\n",
              "    <tr>\n",
              "      <th>15</th>\n",
              "      <td>1223</td>\n",
              "      <td>4.740311</td>\n",
              "      <td>Grand Day Out, A (1992)</td>\n",
              "      <td>Animation|Comedy</td>\n",
              "    </tr>\n",
              "    <tr>\n",
              "      <th>16</th>\n",
              "      <td>953</td>\n",
              "      <td>4.733744</td>\n",
              "      <td>It's a Wonderful Life (1946)</td>\n",
              "      <td>Drama</td>\n",
              "    </tr>\n",
              "    <tr>\n",
              "      <th>17</th>\n",
              "      <td>1136</td>\n",
              "      <td>4.723020</td>\n",
              "      <td>Monty Python and the Holy Grail (1974)</td>\n",
              "      <td>Comedy</td>\n",
              "    </tr>\n",
              "    <tr>\n",
              "      <th>18</th>\n",
              "      <td>3338</td>\n",
              "      <td>4.714736</td>\n",
              "      <td>For All Mankind (1989)</td>\n",
              "      <td>Documentary</td>\n",
              "    </tr>\n",
              "    <tr>\n",
              "      <th>19</th>\n",
              "      <td>1262</td>\n",
              "      <td>4.713793</td>\n",
              "      <td>Great Escape, The (1963)</td>\n",
              "      <td>Adventure|War</td>\n",
              "    </tr>\n",
              "  </tbody>\n",
              "</table>\n",
              "</div>"
            ],
            "text/plain": [
              "    movie_id  ...                genres\n",
              "0       2324  ...          Comedy|Drama\n",
              "1       2905  ...      Action|Adventure\n",
              "2       2028  ...      Action|Drama|War\n",
              "3       2396  ...        Comedy|Romance\n",
              "4       3022  ...                Comedy\n",
              "5        668  ...                 Drama\n",
              "6       2329  ...                 Drama\n",
              "7       1111  ...           Documentary\n",
              "8       3030  ...  Comedy|Drama|Western\n",
              "9       1148  ...      Animation|Comedy\n",
              "10      3092  ...                 Drama\n",
              "11      1246  ...                 Drama\n",
              "12      3415  ...                 Drama\n",
              "13      1250  ...             Drama|War\n",
              "14      2019  ...          Action|Drama\n",
              "15      1223  ...      Animation|Comedy\n",
              "16       953  ...                 Drama\n",
              "17      1136  ...                Comedy\n",
              "18      3338  ...           Documentary\n",
              "19      1262  ...         Adventure|War\n",
              "\n",
              "[20 rows x 4 columns]"
            ]
          },
          "metadata": {
            "tags": []
          },
          "execution_count": 20
        }
      ]
    },
    {
      "cell_type": "code",
      "metadata": {
        "id": "P1UNT1TR2zQn",
        "colab_type": "code",
        "colab": {}
      },
      "source": [
        ""
      ],
      "execution_count": 0,
      "outputs": []
    }
  ]
}